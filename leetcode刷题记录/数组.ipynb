{
 "cells": [
  {
   "cell_type": "code",
   "execution_count": null,
   "metadata": {},
   "outputs": [],
   "source": [
    "1. 两数之和\n",
    "给定一个整数数组 nums 和一个整数目标值 target，请你在该数组中找出 和为目标值 的那 两个 整数，\n",
    "并返回它们的数组下标。\n",
    "你可以假设每种输入只会对应一个答案。但是，数组中同一个元素在答案里不能重复出现。\n",
    "你可以按任意顺序返回答案。\n",
    "示例 1：\n",
    "输入：nums = [2,7,11,15], target = 9\n",
    "输出：[0,1]\n",
    "解释：因为 nums[0] + nums[1] == 9 ，返回 [0, 1] 。\n",
    "示例 2：\n",
    "输入：nums = [3,2,4], target = 6\n",
    "输出：[1,2]\n",
    "示例 3：\n",
    "输入：nums = [3,3], target = 6\n",
    "输出：[0,1]"
   ]
  },
  {
   "cell_type": "code",
   "execution_count": null,
   "metadata": {},
   "outputs": [],
   "source": [
    " n = len(nums)\n",
    "# for i in range(n-1):\n",
    "#     for j in range(i+1,n):\n",
    "#         if nums[i] + nums[j] == target:\n",
    "#             return [i,j]"
   ]
  },
  {
   "cell_type": "code",
   "execution_count": null,
   "metadata": {},
   "outputs": [],
   "source": [
    "# n = len(nums)\n",
    "# dic = {}\n",
    "# for i in range(n):\n",
    "#     rest_num = target - nums[i]\n",
    "#     if rest_num in dic:\n",
    "#         return [dic[rest_num],i]\n",
    "#     dic[nums[i]] = i"
   ]
  },
  {
   "cell_type": "code",
   "execution_count": null,
   "metadata": {},
   "outputs": [],
   "source": [
    "剑指 Offer 03. 数组中重复的数字\n",
    "找出数组中重复的数字。\n",
    "在一个长度为 n 的数组 nums 里的所有数字都在 0～n-1 的范围内。数组中某些数字是重复的，\n",
    "但不知道有几个数字重复了，也不知道每个数字重复了几次。请找出数组中任意一个重复的数字。\n",
    "示例 1：\n",
    "输入：\n",
    "[2, 3, 1, 0, 2, 5, 3]\n",
    "输出：2 或 3 "
   ]
  },
  {
   "cell_type": "code",
   "execution_count": null,
   "metadata": {},
   "outputs": [],
   "source": [
    "seen = set()\n",
    "for num in nums:\n",
    "    if num in seen:\n",
    "        return num\n",
    "    seen.add(num)"
   ]
  },
  {
   "cell_type": "code",
   "execution_count": null,
   "metadata": {},
   "outputs": [],
   "source": [
    "15. 三数之和\n",
    "给你一个包含 n 个整数的数组 nums，判断 nums 中是否存在三个元素 a，b，c ，\n",
    "使得 a + b + c = 0 ？请你找出所有和为 0 且不重复的三元组。\n",
    "注意：答案中不可以包含重复的三元组。\n",
    "示例 1：\n",
    "输入：nums = [-1,0,1,2,-1,-4]\n",
    "输出：[[-1,-1,2],[-1,0,1]]\n",
    "示例 2：\n",
    "输入：nums = []\n",
    "输出：[]\n",
    "示例 3：\n",
    "输入：nums = [0]\n",
    "输出：[]"
   ]
  },
  {
   "cell_type": "code",
   "execution_count": null,
   "metadata": {},
   "outputs": [],
   "source": [
    "# n = len(nums)\n",
    "# res = []\n",
    "# nums.sort()\n",
    "# for first in range(n-2):\n",
    "#     if first > 0 and nums[first] == nums[first - 1]:\n",
    "#         continue\n",
    "#     third = n - 1\n",
    "#     target = -nums[first]\n",
    "#     for second in range(first+1,n-1):\n",
    "#         if second > first + 1 and nums[second] == nums[second - 1]:\n",
    "#             continue\n",
    "#         while third > second and nums[third] + nums[second] > target:\n",
    "#             third -= 1\n",
    "#         if second == third:\n",
    "#             break\n",
    "#         if nums[second] + nums[third] == target:\n",
    "#             res.append([nums[first],nums[second],nums[third]])                      \n",
    "# return res"
   ]
  },
  {
   "cell_type": "code",
   "execution_count": null,
   "metadata": {},
   "outputs": [],
   "source": [
    "n = len(nums)\n",
    "nums.sort()\n",
    "res = []\n",
    "for i in range(n-2):\n",
    "    if i > 0 and nums[i] == nums[i-1]:\n",
    "        continue\n",
    "    j = i + 1\n",
    "    k = n - 1\n",
    "    target = - nums[i]\n",
    "    while j < k:\n",
    "        if nums[j] + nums[k] == target:\n",
    "            res.append([nums[i],nums[j],nums[k]])\n",
    "            while j < k and nums[j] == nums[j+1]:\n",
    "                j += 1\n",
    "            while j < k and nums[k] == nums[k-1]:\n",
    "                k -= 1\n",
    "            j += 1\n",
    "            k -= 1\n",
    "        elif nums[j] + nums[k] > target:\n",
    "            k -= 1\n",
    "        else:\n",
    "            j += 1\n",
    "return res"
   ]
  },
  {
   "cell_type": "code",
   "execution_count": null,
   "metadata": {},
   "outputs": [],
   "source": [
    "45. 跳跃游戏 II\n",
    "给定一个非负整数数组，你最初位于数组的第一个位置。\n",
    "数组中的每个元素代表你在该位置可以跳跃的最大长度。\n",
    "你的目标是使用最少的跳跃次数到达数组的最后一个位置。\n",
    "假设你总是可以到达数组的最后一个位置。\n",
    "示例 1:\n",
    "输入: [2,3,1,1,4]\n",
    "输出: 2\n",
    "解释: 跳到最后一个位置的最小跳跃数是 2。\n",
    "     从下标为 0 跳到下标为 1 的位置，跳 1 步，然后跳 3 步到达数组的最后一个位置。\n",
    "示例 2:\n",
    "输入: [2,3,0,1,4]\n",
    "输出: 2"
   ]
  },
  {
   "cell_type": "code",
   "execution_count": null,
   "metadata": {},
   "outputs": [],
   "source": [
    " # n = len(nums)\n",
    "# start = 0\n",
    "# end = 1\n",
    "# minStep = 0\n",
    "\n",
    "# while end < n:\n",
    "#     maxDistance = 0\n",
    "#     for i in range(start,end):\n",
    "#         maxDistance = max(maxDistance,i+nums[i])\n",
    "#     start = end\n",
    "#     end = maxDistance + 1\n",
    "#     minStep += 1\n",
    "# return minStep"
   ]
  },
  {
   "cell_type": "code",
   "execution_count": null,
   "metadata": {},
   "outputs": [],
   "source": [
    "42. 接雨水"
   ]
  },
  {
   "cell_type": "code",
   "execution_count": null,
   "metadata": {},
   "outputs": [],
   "source": [
    "88. 合并两个有序数组\n",
    "给你两个有序整数数组 nums1 和 nums2，请你将 nums2 合并到 nums1 中，\n",
    "使 nums1 成为一个有序数组。\n",
    "初始化 nums1 和 nums2 的元素数量分别为 m 和 n 。\n",
    "你可以假设 nums1 的空间大小等于 m + n，\n",
    "这样它就有足够的空间保存来自 nums2 的元素。\n",
    "示例 1：\n",
    "输入：nums1 = [1,2,3,0,0,0], m = 3, nums2 = [2,5,6], n = 3\n",
    "输出：[1,2,2,3,5,6]\n",
    "示例 2：\n",
    "输入：nums1 = [1], m = 1, nums2 = [], n = 0\n",
    "输出：[1]"
   ]
  },
  {
   "cell_type": "code",
   "execution_count": null,
   "metadata": {},
   "outputs": [],
   "source": [
    " \"\"\"\n",
    "Do not return anything, modify nums1 in-place instead.\n",
    "\"\"\"\n",
    "# if not nums1 or not nums2:\n",
    "#     return nums1 or nums2\n",
    "# nums1[-n:] = nums2\n",
    "# nums1.sort()\n",
    "\n",
    "# nums1[m:] = nums2\n",
    "# nums1.sort()"
   ]
  },
  {
   "cell_type": "code",
   "execution_count": null,
   "metadata": {},
   "outputs": [],
   "source": [
    "# i,j = 0,0\n",
    "# nums1_copy = []\n",
    "# while i < m and j < n:\n",
    "#     if nums1[i] < nums2[j]:\n",
    "#         nums1_copy.append(nums1[i])\n",
    "#         i += 1\n",
    "#     else:\n",
    "#         nums1_copy.append(nums2[j])\n",
    "#         j += 1\n",
    "\n",
    "# if i < m:\n",
    "#     nums1_copy.extend(nums1[i:m])\n",
    "# if j < n:\n",
    "#     nums1_copy.extend(nums2[j:])\n",
    "\n",
    "# nums1[:]= nums1_copy"
   ]
  },
  {
   "cell_type": "code",
   "execution_count": null,
   "metadata": {},
   "outputs": [],
   "source": [
    "# alist = []\n",
    "# i,j = 0,0\n",
    "# while i < m or j < n:\n",
    "#     if j == n:\n",
    "#         alist.append(nums1[i])\n",
    "#         i += 1   \n",
    "#     elif i == m:\n",
    "#         alist.append(nums2[j])\n",
    "#         j += 1\n",
    "#     elif nums1[i] < nums2[j]:\n",
    "#         alist.append(nums1[i])\n",
    "#         i += 1\n",
    "#     else:\n",
    "#         alist.append(nums2[j])\n",
    "#         j += 1\n",
    "\n",
    "# nums1[:] = alist"
   ]
  },
  {
   "cell_type": "code",
   "execution_count": null,
   "metadata": {},
   "outputs": [],
   "source": [
    "4. 寻找两个正序数组的中位数\n",
    "给定两个大小分别为 m 和 n 的正序（从小到大）数组 nums1 和 nums2。请你找出并返回这两个正序数组的 中位数 。\n",
    "示例 1：\n",
    "输入：nums1 = [1,3], nums2 = [2]\n",
    "输出：2.00000\n",
    "解释：合并数组 = [1,2,3] ，中位数 2\n",
    "示例 2：\n",
    "输入：nums1 = [1,2], nums2 = [3,4]\n",
    "输出：2.50000\n",
    "解释：合并数组 = [1,2,3,4] ，中位数 (2 + 3) / 2 = 2.5\n",
    "示例 3：\n",
    "输入：nums1 = [0,0], nums2 = [0,0]\n",
    "输出：0.00000"
   ]
  },
  {
   "cell_type": "code",
   "execution_count": null,
   "metadata": {},
   "outputs": [],
   "source": [
    "nums = nums1 + nums2\n",
    "nums.sort()\n",
    "n = len(nums)\n",
    "if n % 2 == 0:\n",
    "    return (nums[n//2 - 1] + nums[n//2]) / 2.0\n",
    "else:\n",
    "    return nums[n//2]"
   ]
  },
  {
   "cell_type": "code",
   "execution_count": null,
   "metadata": {},
   "outputs": [],
   "source": [
    "53. 最大子序和"
   ]
  },
  {
   "cell_type": "code",
   "execution_count": null,
   "metadata": {},
   "outputs": [],
   "source": [
    "11. 盛最多水的容器\n",
    "给你 n 个非负整数 a1，a2，...，an，每个数代表坐标中的一个点 (i, ai) 。\n",
    "在坐标内画 n 条垂直线，垂直线 i 的两个端点分别为 (i, ai) 和 (i, 0) 。\n",
    "找出其中的两条线，使得它们与 x 轴共同构成的容器可以容纳最多的水。\n",
    "说明：你不能倾斜容器。\n",
    "输入：[1,8,6,2,5,4,8,3,7]\n",
    "输出：49 \n",
    "解释：图中垂直线代表输入数组 [1,8,6,2,5,4,8,3,7]。在此情况下，\n",
    "容器能够容纳水（表示为蓝色部分）的最大值为 49。"
   ]
  },
  {
   "cell_type": "code",
   "execution_count": null,
   "metadata": {},
   "outputs": [],
   "source": [
    "超出时间限制\n",
    "ans = 0\n",
    "n = len(height)\n",
    "for i in range(n-1):\n",
    "    for j in range(n-1,i,-1):\n",
    "        tmp = min(height[i],height[j]) * (j - i)\n",
    "        ans = max(ans,tmp)\n",
    "return ans"
   ]
  },
  {
   "cell_type": "code",
   "execution_count": null,
   "metadata": {},
   "outputs": [],
   "source": [
    "i,j = 0,len(height) - 1\n",
    "ans = 0\n",
    "while i < j:\n",
    "    ans = max(ans,min(height[i],height[j]) * (j-i))\n",
    "    if height[i] < height[j]:\n",
    "        i += 1\n",
    "    else:\n",
    "        j -= 1\n",
    "return ans"
   ]
  },
  {
   "cell_type": "code",
   "execution_count": null,
   "metadata": {},
   "outputs": [],
   "source": [
    "121. 买卖股票的最佳时机\n",
    "给定一个数组 prices ，它的第 i 个元素 prices[i] 表示一支给定股票第 i 天的价格。\n",
    "你只能选择 某一天 买入这只股票，并选择在 未来的某一个不同的日子 卖出该股票。\n",
    "设计一个算法来计算你所能获取的最大利润。\n",
    "返回你可以从这笔交易中获取的最大利润。如果你不能获取任何利润，返回 0 。\n",
    "示例 1：\n",
    "输入：[7,1,5,3,6,4]\n",
    "输出：5\n",
    "解释：在第 2 天（股票价格 = 1）的时候买入，在第 5 天（股票价格 = 6）的时候卖出，\n",
    "最大利润 = 6-1 = 5 。\n",
    "注意利润不能是 7-1 = 6, 因为卖出价格需要大于买入价格；同时，你不能在买入前卖出股票。\n",
    "示例 2：\n",
    "输入：prices = [7,6,4,3,1]\n",
    "输出：0\n",
    "解释：在这种情况下, 没有交易完成, 所以最大利润为 0。"
   ]
  },
  {
   "cell_type": "code",
   "execution_count": null,
   "metadata": {},
   "outputs": [],
   "source": [
    "n = len(prices)\n",
    "dp = [0] * n\n",
    "minPrice = prices[0]\n",
    "\n",
    "for i in range(1,n):\n",
    "    minPrice = min(minPrice,prices[i])\n",
    "    dp[i] = max(dp[i-1],prices[i] - minPrice)\n",
    "return max(dp)"
   ]
  },
  {
   "cell_type": "code",
   "execution_count": null,
   "metadata": {},
   "outputs": [],
   "source": [
    "509. 斐波那契数\n",
    "斐波那契数，通常用 F(n) 表示，形成的序列称为 斐波那契数列 。\n",
    "该数列由 0 和 1 开始，后面的每一项数字都是前面两项数字的和。也就是：\n",
    "F(0) = 0，F(1) = 1\n",
    "F(n) = F(n - 1) + F(n - 2)，其中 n > 1\n",
    "给你 n ，请计算 F(n) 。\n",
    "示例 1：\n",
    "输入：2\n",
    "输出：1\n",
    "解释：F(2) = F(1) + F(0) = 1 + 0 = 1"
   ]
  },
  {
   "cell_type": "code",
   "execution_count": null,
   "metadata": {},
   "outputs": [],
   "source": [
    " # if n < 2:\n",
    "#     return n\n",
    "# a,b = 0,1\n",
    "# for i in range(2,n+1):\n",
    "#     tmp = a+b\n",
    "#     a = b\n",
    "#     b = tmp\n",
    "# return b"
   ]
  },
  {
   "cell_type": "code",
   "execution_count": null,
   "metadata": {},
   "outputs": [],
   "source": [
    "# if n < 2:\n",
    "#     return n\n",
    "# dp = [0] * (n+1)\n",
    "# dp[:2] = [0,1]\n",
    "# for i in range(2,n+1):\n",
    "#     dp[i] = dp[i-1] + dp[i-2]\n",
    "# return dp[-1]"
   ]
  },
  {
   "cell_type": "code",
   "execution_count": null,
   "metadata": {},
   "outputs": [],
   "source": [
    "54. 螺旋矩阵\n",
    "给你一个 m 行 n 列的矩阵 matrix ，请按照 顺时针螺旋顺序 ，返回矩阵中的所有元素。\n",
    "输入：matrix = [[1,2,3],[4,5,6],[7,8,9]]\n",
    "输出：[1,2,3,6,9,8,7,4,5]"
   ]
  },
  {
   "cell_type": "code",
   "execution_count": null,
   "metadata": {},
   "outputs": [],
   "source": [
    "res = []\n",
    "while matrix:\n",
    "    res += matrix.pop(0)\n",
    "    matrix = list(zip(*matrix))[::-1]\n",
    "return res"
   ]
  },
  {
   "cell_type": "code",
   "execution_count": null,
   "metadata": {},
   "outputs": [],
   "source": [
    "###################################二分查找###########################"
   ]
  },
  {
   "cell_type": "code",
   "execution_count": null,
   "metadata": {},
   "outputs": [],
   "source": [
    "剑指 Offer 11. 旋转数组的最小数字\n",
    "把一个数组最开始的若干个元素搬到数组的末尾，我们称之为数组的旋转。\n",
    "输入一个递增排序的数组的一个旋转，输出旋转数组的最小元素。\n",
    "例如，数组 [3,4,5,1,2] 为 [1,2,3,4,5] 的一个旋转，该数组的最小值为1。  \n",
    "示例 1：\n",
    "输入：[3,4,5,1,2]\n",
    "输出：1\n",
    "示例 2：\n",
    "输入：[2,2,2,0,1]\n",
    "输出：0"
   ]
  },
  {
   "cell_type": "code",
   "execution_count": null,
   "metadata": {},
   "outputs": [],
   "source": [
    "# return min(numbers) 345678912\n",
    "left,right = 0,len(numbers) - 1\n",
    "while left < right:\n",
    "    # mid = (left + right) // 2\n",
    "    mid = left + (right - left) // 2 ###防止left+right溢出越界\n",
    "    if numbers[mid] < numbers[right]:\n",
    "        right = mid\n",
    "    elif numbers[mid] > numbers[right]:\n",
    "        left = mid + 1\n",
    "    else:\n",
    "        right -= 1   ####去重\n",
    "return numbers[left]"
   ]
  },
  {
   "cell_type": "code",
   "execution_count": null,
   "metadata": {},
   "outputs": [],
   "source": []
  }
 ],
 "metadata": {
  "kernelspec": {
   "display_name": "Python 3",
   "language": "python",
   "name": "python3"
  },
  "language_info": {
   "codemirror_mode": {
    "name": "ipython",
    "version": 3
   },
   "file_extension": ".py",
   "mimetype": "text/x-python",
   "name": "python",
   "nbconvert_exporter": "python",
   "pygments_lexer": "ipython3",
   "version": "3.8.5"
  }
 },
 "nbformat": 4,
 "nbformat_minor": 4
}
