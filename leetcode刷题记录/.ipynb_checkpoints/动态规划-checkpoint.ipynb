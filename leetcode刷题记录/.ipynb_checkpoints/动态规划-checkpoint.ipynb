{
 "cells": [
  {
   "cell_type": "code",
   "execution_count": null,
   "metadata": {},
   "outputs": [],
   "source": []
  },
  {
   "cell_type": "code",
   "execution_count": null,
   "metadata": {},
   "outputs": [],
   "source": [
    "70. 爬楼梯\n",
    "假设你正在爬楼梯。需要 n 阶你才能到达楼顶。\n",
    "每次你可以爬 1 或 2 个台阶。你有多少种不同的方法可以爬到楼顶呢？\n",
    "注意：给定 n 是一个正整数。\n",
    "示例 1：\n",
    "输入： 2\n",
    "输出： 2\n",
    "解释： 有两种方法可以爬到楼顶。\n",
    "1.  1 阶 + 1 阶\n",
    "2.  2 阶\n",
    "示例 2：\n",
    "输入： 3\n",
    "输出： 3\n",
    "解释： 有三种方法可以爬到楼顶。\n",
    "1.  1 阶 + 1 阶 + 1 阶\n",
    "2.  1 阶 + 2 阶\n",
    "3.  2 阶 + 1 阶"
   ]
  },
  {
   "cell_type": "code",
   "execution_count": null,
   "metadata": {},
   "outputs": [],
   "source": [
    "dp = [1] * (n+1)\n",
    "dp[0] = 1\n",
    "dp[1] = 1\n",
    "for i in range(2,n+1):\n",
    "    dp[i] = dp[i-1] + dp[i-2]\n",
    "return dp[-1]"
   ]
  },
  {
   "cell_type": "code",
   "execution_count": null,
   "metadata": {},
   "outputs": [],
   "source": [
    "剑指 Offer 10- I. 斐波那契数列\n",
    "写一个函数，输入 n ，求斐波那契（Fibonacci）数列的第 n 项（即 F(N)）。斐波那契数列的定义如下：\n",
    "F(0) = 0,   F(1) = 1\n",
    "F(N) = F(N - 1) + F(N - 2), 其中 N > 1.\n",
    "斐波那契数列由 0 和 1 开始，之后的斐波那契数就是由之前的两数相加而得出。\n",
    "答案需要取模 1e9+7（1000000007），如计算初始结果为：1000000008，请返回 1。\n",
    "示例 1：\n",
    "输入：n = 2\n",
    "输出：1\n",
    "示例 2：\n",
    "输入：n = 5\n",
    "输出：5"
   ]
  },
  {
   "cell_type": "code",
   "execution_count": null,
   "metadata": {},
   "outputs": [],
   "source": [
    "# 递归超时\n",
    "# if n == 0 or n == 1:\n",
    "#     return n\n",
    "\n",
    "# return self.fib(n-1) + self.fib(n-2)"
   ]
  },
  {
   "cell_type": "code",
   "execution_count": null,
   "metadata": {},
   "outputs": [],
   "source": [
    "# if n == 0 or n == 1:\n",
    "#     return n\n",
    "\n",
    "# dp = [0] * (n+1)\n",
    "# dp[1] = 1\n",
    "# for i in range(2,n+1):\n",
    "#     dp[i] = dp[i-1] + dp[i-2]\n",
    "# return dp[-1] % 1000000007"
   ]
  },
  {
   "cell_type": "code",
   "execution_count": null,
   "metadata": {},
   "outputs": [],
   "source": [
    "# if n == 0 or n == 1:\n",
    "#     return n\n",
    "# a,b = 0,1\n",
    "# for i in range(2,n+1):\n",
    "#     tmp = a\n",
    "#     a = b\n",
    "#     b = tmp + b\n",
    "# return b % 1000000007"
   ]
  },
  {
   "cell_type": "code",
   "execution_count": null,
   "metadata": {},
   "outputs": [],
   "source": [
    "def dfs(i,memo):\n",
    "    if i == 0 or i == 1:\n",
    "        return i\n",
    "    if memo[i] == -1:\n",
    "        memo[i] = dfs(i-1,memo) + dfs(i-2,memo)\n",
    "    return memo[i]\n",
    "    return dfs(n,[-1]*(n+1)) % 1000000007"
   ]
  },
  {
   "cell_type": "code",
   "execution_count": null,
   "metadata": {},
   "outputs": [],
   "source": [
    "42. 接雨水"
   ]
  },
  {
   "cell_type": "code",
   "execution_count": null,
   "metadata": {},
   "outputs": [],
   "source": [
    "53. 最大子序和\n",
    "给定一个整数数组 nums ，找到一个具有最大和的连续子数组（子数组最少包含一个元素），返回其最大和。\n",
    "示例 1：\n",
    "输入：nums = [-2,1,-3,4,-1,2,1,-5,4]\n",
    "输出：6\n",
    "解释：连续子数组 [4,-1,2,1] 的和最大，为 6 。"
   ]
  },
  {
   "cell_type": "code",
   "execution_count": null,
   "metadata": {},
   "outputs": [],
   "source": [
    "if len(nums) == 1:\n",
    "            return nums[0]\n",
    "\n",
    "# ans = nums[0] \n",
    "# numSum = 0\n",
    "# for i in range(len(nums)):\n",
    "#     if numSum > 0:\n",
    "#         numSum += nums[i]\n",
    "#     else:\n",
    "#         numSum = nums[i]\n",
    "#     ans = max(ans,numSum)\n",
    "# return ans"
   ]
  },
  {
   "cell_type": "code",
   "execution_count": null,
   "metadata": {},
   "outputs": [],
   "source": [
    "# dp = nums[:]\n",
    "# for i in range(1,len(nums)):\n",
    "#     if dp[i-1] > 0:\n",
    "#         dp[i] = dp[i-1] + nums[i]\n",
    "# return max(dp)"
   ]
  },
  {
   "cell_type": "code",
   "execution_count": null,
   "metadata": {},
   "outputs": [],
   "source": []
  }
 ],
 "metadata": {
  "kernelspec": {
   "display_name": "Python 3",
   "language": "python",
   "name": "python3"
  },
  "language_info": {
   "codemirror_mode": {
    "name": "ipython",
    "version": 3
   },
   "file_extension": ".py",
   "mimetype": "text/x-python",
   "name": "python",
   "nbconvert_exporter": "python",
   "pygments_lexer": "ipython3",
   "version": "3.8.5"
  }
 },
 "nbformat": 4,
 "nbformat_minor": 4
}
