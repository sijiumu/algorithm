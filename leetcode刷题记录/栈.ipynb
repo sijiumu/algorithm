{
 "cells": [
  {
   "cell_type": "code",
   "execution_count": null,
   "metadata": {},
   "outputs": [],
   "source": []
  },
  {
   "cell_type": "code",
   "execution_count": null,
   "metadata": {},
   "outputs": [],
   "source": [
    "42. 接雨水\n",
    "给定 n 个非负整数表示每个宽度为 1 的柱子的高度图，计算按此排列的柱子，下雨之后能接多少雨水。\n",
    "输入：height = [0,1,0,2,1,0,1,3,2,1,2,1]\n",
    "输出：6\n",
    "解释：上面是由数组 [0,1,0,2,1,0,1,3,2,1,2,1] 表示的高度图，在这种情况下，\n",
    "可以接 6 个单位的雨水（蓝色部分表示雨水）。 \n",
    "示例 2：\n",
    "输入：height = [4,2,0,3,2,5]\n",
    "输出：9"
   ]
  },
  {
   "cell_type": "code",
   "execution_count": null,
   "metadata": {},
   "outputs": [],
   "source": [
    "双重循环，找每个点的左边最大，右边最大\n",
    "# n = len(height)\n",
    "# ans = 0\n",
    "\n",
    "# for i in range(1,n-1):\n",
    "#     left_max ,right_max = 0,0\n",
    "#     for left in range(i+1):\n",
    "#         left_max = max(left_max,height[left])\n",
    "#         # if left_max < height[left]:\n",
    "#         #     left_max = height[left]\n",
    "#     for right in range(i,n):\n",
    "#         right_max = max(right_max,height[right])\n",
    "#         # if right_max < height[right]:\n",
    "#         #     right_max = height[right]\n",
    "#     ans += min(left_max,right_max) - height[i]\n",
    "\n",
    "# return ans"
   ]
  },
  {
   "cell_type": "code",
   "execution_count": null,
   "metadata": {},
   "outputs": [],
   "source": [
    "双指针\n",
    "# n = len(height)\n",
    "# ans = 0\n",
    "# left,right = 0,n-1\n",
    "# left_max,right_max = 0,0\n",
    "# while left < right:\n",
    "#     if height[left] < height[right]:\n",
    "#         if height[left] > left_max:\n",
    "#             left_max = height[left]\n",
    "#         else:\n",
    "#             ans += left_max - height[left]\n",
    "#         left += 1\n",
    "#     else:\n",
    "#         if height[right] > right_max:\n",
    "#             right_max = height[right]\n",
    "#         else:\n",
    "#             ans += right_max - height[right]\n",
    "#         right -= 1\n",
    "# return ans"
   ]
  },
  {
   "cell_type": "code",
   "execution_count": null,
   "metadata": {},
   "outputs": [],
   "source": [
    "面试题 17.21. 直方图的水量\n",
    "给定一个直方图(也称柱状图)，假设有人从上面源源不断地倒水，最后直方图能存多少水量?\n",
    "直方图的宽度为 1。\n",
    "上面是由数组 [0,1,0,2,1,0,1,3,2,1,2,1] 表示的直方图，在这种情况下，\n",
    "可以接 6 个单位的水（蓝色部分表示水）。\n",
    "示例:\n",
    "输入: [0,1,0,2,1,0,1,3,2,1,2,1]\n",
    "输出: 6"
   ]
  },
  {
   "cell_type": "code",
   "execution_count": null,
   "metadata": {},
   "outputs": [],
   "source": [
    "i,j = 0,len(height)-1\n",
    "left_max,right_max = 0,0\n",
    "ans = 0\n",
    "while i < j:\n",
    "    if height[i] < height[j]:\n",
    "        if height[i] > left_max:\n",
    "            left_max = height[i]\n",
    "        ans += left_max - height[i]\n",
    "        i += 1\n",
    "    else:\n",
    "        if height[j] > right_max:\n",
    "            right_max = height[j]\n",
    "        ans += right_max - height[j]\n",
    "        j -= 1\n",
    "return ans"
   ]
  },
  {
   "cell_type": "code",
   "execution_count": null,
   "metadata": {},
   "outputs": [],
   "source": [
    "# left,right = height[:],height[:]\n",
    "# ans = 0\n",
    "# n = len(height)\n",
    "\n",
    "# for i in range(1,n):\n",
    "#     left[i] = max(left[i-1],height[i])\n",
    "# for j in range(n-2,-1,-1):\n",
    "#     right[j] = max(right[j+1],height[j])\n",
    "# for k in range(1,n-1):\n",
    "#     ans += min(left[k],right[k]) - height[k]\n",
    "# return ans"
   ]
  },
  {
   "cell_type": "code",
   "execution_count": null,
   "metadata": {},
   "outputs": [],
   "source": [
    "20. 有效的括号\n",
    "给定一个只包括 '('，')'，'{'，'}'，'['，']' 的字符串 s ，判断字符串是否有效。\n",
    "有效字符串需满足：\n",
    "左括号必须用相同类型的右括号闭合。\n",
    "左括号必须以正确的顺序闭合。\n",
    "示例 1：\n",
    "输入：s = \"()\"\n",
    "输出：true\n",
    "示例 2：\n",
    "输入：s = \"()[]{}\"\n",
    "输出：true\n",
    "示例 3：\n",
    "输入：s = \"(]\"\n",
    "输出：false"
   ]
  },
  {
   "cell_type": "code",
   "execution_count": null,
   "metadata": {},
   "outputs": [],
   "source": [
    "# while \"{}\" in s or \"[]\" in s or \"()\" in s:\n",
    "#     s = s.replace(\"{}\",\"\")\n",
    "#     s = s.replace(\"[]\",\"\")\n",
    "#     s = s.replace(\"()\",\"\")\n",
    "# return s == \"\""
   ]
  },
  {
   "cell_type": "code",
   "execution_count": null,
   "metadata": {},
   "outputs": [],
   "source": [
    " pairs = {\"}\":\"{\",\"]\":\"[\",\")\":\"(\"}\n",
    "stack = []\n",
    "for alpha in s:\n",
    "    if alpha in pairs:\n",
    "        if not stack or stack[-1] != pairs[alpha]:\n",
    "            return False\n",
    "        stack.pop()\n",
    "    else:\n",
    "        stack.append(alpha)\n",
    "return not stack"
   ]
  },
  {
   "cell_type": "code",
   "execution_count": null,
   "metadata": {},
   "outputs": [],
   "source": [
    "1190. 反转每对括号间的子串\n",
    "给出一个字符串 s（仅含有小写英文字母和括号）。\n",
    "请你按照从括号内到外的顺序，逐层反转每对匹配括号中的字符串，并返回最终的结果。\n",
    "注意，您的结果中 不应 包含任何括号。\n",
    "示例 1：\n",
    "输入：s = \"(abcd)\"\n",
    "输出：\"dcba\"\n",
    "示例 2：\n",
    "输入：s = \"(u(love)i)\"\n",
    "输出：\"iloveu\"\n",
    "示例 3：\n",
    "输入：s = \"(ed(et(oc))el)\"\n",
    "输出：\"leetcode\"\n",
    "示例 4：\n",
    "输入：s = \"a(bcdefghijkl(mno)p)q\"\n",
    "输出：\"apmnolkjihgfedcbq\""
   ]
  },
  {
   "cell_type": "code",
   "execution_count": null,
   "metadata": {},
   "outputs": [],
   "source": [
    "stack = []\n",
    "for alpha in s:\n",
    "    if alpha == \")\":\n",
    "        tmp = []\n",
    "        while stack and stack[-1] != \"(\":\n",
    "            tmp.append(stack.pop())\n",
    "        stack.pop()\n",
    "        stack += tmp\n",
    "    else:\n",
    "        stack.append(alpha)\n",
    "return \"\".join(stack)"
   ]
  },
  {
   "cell_type": "code",
   "execution_count": null,
   "metadata": {},
   "outputs": [],
   "source": [
    "739.每日温度\n",
    "请根据每日 气温 列表，重新生成一个列表。对应位置的输出为：要想观测到更高的气温，\n",
    "至少需要等待的天数。如果气温在这之后都不会升高，请在该位置用 0 来代替。\n",
    "\n",
    "例如，给定一个列表 temperatures = [73, 74, 75, 71, 69, 72, 76, 73]，\n",
    "你的输出应该是 [1, 1, 4, 2, 1, 1, 0, 0]\n",
    "提示：气温 列表长度的范围是 [1, 30000]。每个气温的值的均为华氏度，\n",
    "都是在 [30, 100] 范围内的整数。"
   ]
  },
  {
   "cell_type": "code",
   "execution_count": null,
   "metadata": {},
   "outputs": [],
   "source": [
    "双重循环，超出时间限制\n",
    "# n = len(temperatures)\n",
    "# stack = [0] * n\n",
    "# for i in range(n-1):\n",
    "#     for j in range(i+1,n):\n",
    "#         tmp = temperatures[j] - temperatures[i]\n",
    "#         if tmp > 0:\n",
    "#             stack[i] = j - i\n",
    "#             break\n",
    "# return stack"
   ]
  },
  {
   "cell_type": "code",
   "execution_count": null,
   "metadata": {},
   "outputs": [],
   "source": [
    "n = len(temperatures)\n",
    "stack = []\n",
    "ans = [0] * n\n",
    "for i in range(n):\n",
    "    while stack and temperatures[stack[-1]] < temperatures[i]:\n",
    "        pre = stack.pop()\n",
    "        ans[pre] = i - pre\n",
    "    stack.append(i)\n",
    "return ans"
   ]
  }
 ],
 "metadata": {
  "kernelspec": {
   "display_name": "Python 3",
   "language": "python",
   "name": "python3"
  },
  "language_info": {
   "codemirror_mode": {
    "name": "ipython",
    "version": 3
   },
   "file_extension": ".py",
   "mimetype": "text/x-python",
   "name": "python",
   "nbconvert_exporter": "python",
   "pygments_lexer": "ipython3",
   "version": "3.8.5"
  }
 },
 "nbformat": 4,
 "nbformat_minor": 4
}
