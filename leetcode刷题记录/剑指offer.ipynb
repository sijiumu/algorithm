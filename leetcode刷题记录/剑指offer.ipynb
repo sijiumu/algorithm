{
 "cells": [
  {
   "cell_type": "code",
   "execution_count": null,
   "metadata": {},
   "outputs": [],
   "source": [
    "剑指 Offer 24. 反转链表\n",
    "定义一个函数，输入一个链表的头节点，反转该链表并输出反转后链表的头节点。"
   ]
  },
  {
   "cell_type": "code",
   "execution_count": null,
   "metadata": {},
   "outputs": [],
   "source": [
    "#先把链表中的数字存储为数组，再把数组逆序存为链表\n",
    "# res = []\n",
    "# while head:\n",
    "#     res.append(head.val)\n",
    "#     head = head.next\n",
    "# phead = ListNode(0)\n",
    "# p = phead\n",
    "# for num in res[::-1]:\n",
    "#     phead.next = ListNode(num)\n",
    "#     phead = phead.next\n",
    "# return p.next\n",
    "\n",
    "# pre = None\n",
    "# while head:\n",
    "#     cur = head.next\n",
    "#     head.next = pre\n",
    "#     pre = head\n",
    "#     head = cur\n",
    "# return pre\n",
    "\n",
    "if not head or not head.next:\n",
    "    return head\n",
    "pre = self.reverseList(head.next)\n",
    "head.next.next = head\n",
    "head.next = None\n",
    "return pre"
   ]
  },
  {
   "cell_type": "code",
   "execution_count": null,
   "metadata": {},
   "outputs": [],
   "source": [
    "剑指 Offer 03. 数组中重复的数字"
   ]
  },
  {
   "cell_type": "code",
   "execution_count": null,
   "metadata": {},
   "outputs": [],
   "source": [
    "seen = set()\n",
    "for num in nums:\n",
    "    if num in seen:\n",
    "        return num\n",
    "    else:\n",
    "        seen.add(num)"
   ]
  },
  {
   "cell_type": "code",
   "execution_count": null,
   "metadata": {},
   "outputs": [],
   "source": [
    "剑指 Offer 42. 连续子数组的最大和\n",
    "输入一个整型数组，数组中的一个或连续多个整数组成一个子数组。\n",
    "求所有子数组的和的最大值。\n",
    "要求时间复杂度为O(n)。\n",
    "\n",
    "示例1:\n",
    "输入: nums = [-2,1,-3,4,-1,2,1,-5,4]\n",
    "输出: 6\n",
    "解释: 连续子数组 [4,-1,2,1] 的和最大，为 6。"
   ]
  },
  {
   "cell_type": "code",
   "execution_count": null,
   "metadata": {},
   "outputs": [],
   "source": [
    "# dp = [0] * len(nums)\n",
    "# dp[0] = nums[0]\n",
    "# for i in range(1,len(nums)):\n",
    "#     if dp[i-1] > 0:\n",
    "#         dp[i] = dp[i-1] + nums[i]\n",
    "#     else:\n",
    "#         dp[i] = nums[i]\n",
    "# return max(dp) \n",
    "\n",
    "tmp = nums[0]\n",
    "maxSum = 0\n",
    "for num in nums:\n",
    "    if tmp > 0:\n",
    "        tmp += num\n",
    "    else:\n",
    "        tmp = num\n",
    "    maxSum = max(maxSum,tmp)\n",
    "return maxSum"
   ]
  },
  {
   "cell_type": "code",
   "execution_count": null,
   "metadata": {},
   "outputs": [],
   "source": [
    "剑指 Offer 22. 链表中倒数第k个节点\n",
    "输入一个链表，输出该链表中倒数第k个节点。为了符合大多数人的习惯，\n",
    "本题从1开始计数，即链表的尾节点是倒数第1个节点。\n",
    "例如，一个链表有 6 个节点，从头节点开始，它们的值依次是 1、2、3、4、5、6。\n",
    "这个链表的倒数第 3 个节点是值为 4 的节点。"
   ]
  },
  {
   "cell_type": "code",
   "execution_count": null,
   "metadata": {},
   "outputs": [],
   "source": [
    "if not head:\n",
    "    return None\n",
    "alist = []\n",
    "while head:\n",
    "    alist.append(head.val)\n",
    "    head = head.next\n",
    "phead = ListNode(alist[-k])\n",
    "p = phead\n",
    "n = len(alist)\n",
    "for i in range(n-k+1,n):\n",
    "    phead.next = ListNode(alist[i])\n",
    "    phead = phead.next\n",
    "return p"
   ]
  },
  {
   "cell_type": "code",
   "execution_count": null,
   "metadata": {},
   "outputs": [],
   "source": [
    "former,later = head,head\n",
    "for _ in range(k):\n",
    "    if not former:\n",
    "        return \n",
    "    former = former.next\n",
    "while former:\n",
    "    former,later = former.next,later.next\n",
    "return later"
   ]
  },
  {
   "cell_type": "code",
   "execution_count": null,
   "metadata": {},
   "outputs": [],
   "source": [
    "剑指 Offer 25. 合并两个排序的链表\n",
    "输入两个递增排序的链表，合并这两个链表并使新链表中的节点仍然是递增排序的。\n",
    "示例1：\n",
    "输入：1->2->4, 1->3->4\n",
    "输出：1->1->2->3->4->4"
   ]
  },
  {
   "cell_type": "code",
   "execution_count": null,
   "metadata": {},
   "outputs": [],
   "source": [
    "head = ListNode(0)\n",
    "p = head\n",
    "while l1 and l2:\n",
    "    if l1.val < l2.val:\n",
    "        head.next = l1\n",
    "        l1 = l1.next\n",
    "    else:\n",
    "        head.next = l2\n",
    "        l2 = l2.next\n",
    "    head = head.next\n",
    "# head.next = l1 if l1 else l2\n",
    "while l1:\n",
    "    head.next = l1\n",
    "    l1 = l1.next\n",
    "    head = head.next\n",
    "while l2:\n",
    "    head.next = l2\n",
    "    l2 = l2.next\n",
    "    head = head.next\n",
    "return p.next"
   ]
  },
  {
   "cell_type": "code",
   "execution_count": null,
   "metadata": {},
   "outputs": [],
   "source": [
    "剑指 Offer 09. 用两个栈实现队列\n",
    "用两个栈实现一个队列。队列的声明如下，请实现它的两个函数 appendTail 和 deleteHead ，\n",
    "分别完成在队列尾部插入整数和在队列头部删除整数的功能。(若队列中没有元素，deleteHead 操作返回 -1 )\n",
    "示例 1：\n",
    "输入：\n",
    "[\"CQueue\",\"appendTail\",\"deleteHead\",\"deleteHead\"]\n",
    "[[],[3],[],[]]\n",
    "输出：[null,null,3,-1]"
   ]
  },
  {
   "cell_type": "code",
   "execution_count": null,
   "metadata": {},
   "outputs": [],
   "source": [
    "class CQueue:\n",
    "\n",
    "def __init__(self):\n",
    "    self.stack1 = []\n",
    "    self.stack2 = []\n",
    "\n",
    "def appendTail(self, value: int) -> None:\n",
    "    self.stack1.append(value)\n",
    "\n",
    "def deleteHead(self) -> int:\n",
    "    if not self.stack2:\n",
    "        while self.stack1:\n",
    "            self.stack2.append(self.stack1.pop())\n",
    "    if not self.stack2:\n",
    "        if not self.stack1:\n",
    "            return -1\n",
    "    else:\n",
    "        return self.stack2.pop()\n",
    "# Your CQueue object will be instantiated and called as such:\n",
    "# obj = CQueue()\n",
    "# obj.appendTail(value)\n",
    "# param_2 = obj.deleteHead()"
   ]
  },
  {
   "cell_type": "code",
   "execution_count": null,
   "metadata": {},
   "outputs": [],
   "source": []
  },
  {
   "cell_type": "code",
   "execution_count": null,
   "metadata": {},
   "outputs": [],
   "source": []
  }
 ],
 "metadata": {
  "kernelspec": {
   "display_name": "Python 3",
   "language": "python",
   "name": "python3"
  },
  "language_info": {
   "codemirror_mode": {
    "name": "ipython",
    "version": 3
   },
   "file_extension": ".py",
   "mimetype": "text/x-python",
   "name": "python",
   "nbconvert_exporter": "python",
   "pygments_lexer": "ipython3",
   "version": "3.8.5"
  }
 },
 "nbformat": 4,
 "nbformat_minor": 4
}
