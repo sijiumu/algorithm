{
 "cells": [
  {
   "cell_type": "code",
   "execution_count": null,
   "metadata": {},
   "outputs": [],
   "source": []
  },
  {
   "cell_type": "code",
   "execution_count": null,
   "metadata": {},
   "outputs": [],
   "source": [
    "144. 二叉树的前序遍历\n",
    "给你二叉树的根节点 root ，返回它节点值的 前序 遍历\n",
    "输入：root = [1,null,2,3]\n",
    "输出：[1,2,3]\n",
    "示例 2：\n",
    "输入：root = []\n",
    "输出：[]\n",
    "示例 3：\n",
    "输入：root = [1]\n",
    "输出：[1]"
   ]
  },
  {
   "cell_type": "code",
   "execution_count": null,
   "metadata": {},
   "outputs": [],
   "source": [
    "res = []\n",
    "def preOrder(root):\n",
    "    if not root:\n",
    "        return\n",
    "    res.append(root.val)\n",
    "    preOrder(root.left)\n",
    "    preOrder(root.right)\n",
    "preOrder(root)\n",
    "return res"
   ]
  },
  {
   "cell_type": "code",
   "execution_count": null,
   "metadata": {},
   "outputs": [],
   "source": [
    "# if not root:\n",
    "#     return []\n",
    "# stack = [root]\n",
    "# res = []\n",
    "# while stack:\n",
    "#     cur = stack.pop()\n",
    "#     res.append(cur.val)\n",
    "#     if cur.right:\n",
    "#         stack.append(cur.right)\n",
    "#     if cur.left:\n",
    "#         stack.append(cur.left)\n",
    "# return res"
   ]
  },
  {
   "cell_type": "code",
   "execution_count": null,
   "metadata": {},
   "outputs": [],
   "source": [
    "cur,stack,res = root,[],[]\n",
    "while cur or stack:\n",
    "    while cur:\n",
    "        res.append(cur.val)\n",
    "        stack.append(cur)\n",
    "        cur = cur.left\n",
    "    tmp = stack.pop()\n",
    "    cur = tmp.right\n",
    "return res"
   ]
  },
  {
   "cell_type": "code",
   "execution_count": null,
   "metadata": {},
   "outputs": [],
   "source": [
    "94. 二叉树的中序遍历\n",
    "给定一个二叉树的根节点 root ，返回它的 中序 遍历。\n",
    "root = [1,null,2,3]\n",
    "输出：[1,3,2]"
   ]
  },
  {
   "cell_type": "code",
   "execution_count": null,
   "metadata": {},
   "outputs": [],
   "source": [
    "# def inOrder(root):\n",
    "#     if not root:\n",
    "#         return\n",
    "#     inOrder(root.left)\n",
    "#     res.append(root.val)\n",
    "#     inOrder(root.right)\n",
    "# res = []\n",
    "# inOrder(root)\n",
    "# return res"
   ]
  },
  {
   "cell_type": "code",
   "execution_count": null,
   "metadata": {},
   "outputs": [],
   "source": [
    "cur,stack,res = root,[],[]\n",
    "while stack or cur:\n",
    "    while cur:\n",
    "        stack.append(cur)\n",
    "        cur = cur.left\n",
    "    tmp = stack.pop()\n",
    "    res.append(tmp.val)\n",
    "    cur = tmp.right\n",
    "return res"
   ]
  },
  {
   "cell_type": "code",
   "execution_count": null,
   "metadata": {},
   "outputs": [],
   "source": [
    "145. 二叉树的后序遍历\n",
    "给定一个二叉树，返回它的 后序 遍历。\n",
    "输入: [1,null,2,3]  \n",
    "   1\n",
    "    \\\n",
    "     2\n",
    "    /\n",
    "   3 \n",
    "\n",
    "输出: [3,2,1]"
   ]
  },
  {
   "cell_type": "code",
   "execution_count": null,
   "metadata": {},
   "outputs": [],
   "source": [
    "# def postOrder(root):\n",
    "#     if not root:\n",
    "#         return\n",
    "#     postOrder(root.left)\n",
    "#     postOrder(root.right)\n",
    "#     res.append(root.val)\n",
    "# res = []\n",
    "# postOrder(root)\n",
    "# return res"
   ]
  },
  {
   "cell_type": "code",
   "execution_count": null,
   "metadata": {},
   "outputs": [],
   "source": [
    "cur,stack,res = root,[],[]\n",
    "while stack or cur:\n",
    "    while cur:\n",
    "        stack.append(cur)\n",
    "        res.append(cur.val)\n",
    "        cur = cur.right\n",
    "    tmp = stack.pop()\n",
    "    cur = tmp.left\n",
    "return res[::-1]"
   ]
  },
  {
   "cell_type": "code",
   "execution_count": null,
   "metadata": {},
   "outputs": [],
   "source": [
    "105. 从前序与中序遍历序列构造二叉树\n",
    "根据一棵树的前序遍历与中序遍历构造二叉树。\n",
    "注意:\n",
    "你可以假设树中没有重复的元素。\n",
    "例如，给出\n",
    "前序遍历 preorder = [3,9,20,15,7]\n",
    "中序遍历 inorder = [9,3,15,20,7]\n",
    "返回如下的二叉树：\n",
    "    3\n",
    "   / \\\n",
    "  9  20\n",
    "    /  \\\n",
    "   15   7"
   ]
  },
  {
   "cell_type": "code",
   "execution_count": null,
   "metadata": {},
   "outputs": [],
   "source": [
    "if not preorder or not inorder:\n",
    "    return \n",
    "root = TreeNode(preorder[0])\n",
    "idx = inorder.index(preorder[0])\n",
    "\n",
    "root.left = self.buildTree(preorder[1:idx+1],inorder[:idx])\n",
    "root.right = self.buildTree(preorder[idx+1:],inorder[idx+1:])\n",
    "\n",
    "return root"
   ]
  },
  {
   "cell_type": "code",
   "execution_count": null,
   "metadata": {},
   "outputs": [],
   "source": [
    "102. 二叉树的层序遍历\n",
    "给你一个二叉树，请你返回其按 层序遍历 得到的节点值。 \n",
    "（即逐层地，从左到右访问所有节点）。\n",
    "示例：\n",
    "二叉树：[3,9,20,null,null,15,7],\n",
    "    3\n",
    "   / \\\n",
    "  9  20\n",
    "    /  \\\n",
    "   15   7\n",
    "返回其层序遍历结果：\n",
    "[\n",
    "  [3],\n",
    "  [9,20],\n",
    "  [15,7]\n",
    "]"
   ]
  },
  {
   "cell_type": "code",
   "execution_count": null,
   "metadata": {},
   "outputs": [],
   "source": [
    "if not root:\n",
    "    return []\n",
    "\n",
    "# queue = [root]\n",
    "# res = []\n",
    "# while queue:\n",
    "#     n = len(queue)\n",
    "#     ans = []\n",
    "#     for _ in range(n):\n",
    "#         cur = queue.pop(0)\n",
    "#         ans.append(cur.val)\n",
    "#         if cur.left:\n",
    "#             queue.append(cur.left)\n",
    "#         if cur.right:\n",
    "#             queue.append(cur.right)\n",
    "#     res.append(ans)\n",
    "# return res"
   ]
  },
  {
   "cell_type": "code",
   "execution_count": null,
   "metadata": {},
   "outputs": [],
   "source": [
    "104. 二叉树的最大深度\n",
    "给定一个二叉树，找出其最大深度。\n",
    "二叉树的深度为根节点到最远叶子节点的最长路径上的节点数。\n",
    "说明: 叶子节点是指没有子节点的节点。\n",
    "示例：\n",
    "给定二叉树 [3,9,20,null,null,15,7]，\n",
    "    3\n",
    "   / \\\n",
    "  9  20\n",
    "    /  \\\n",
    "   15   7\n",
    "返回它的最大深度 3 。"
   ]
  },
  {
   "cell_type": "code",
   "execution_count": null,
   "metadata": {},
   "outputs": [],
   "source": [
    "# if not root:\n",
    "#     return 0\n",
    "# return max(self.maxDepth(root.left),self.maxDepth(root.right)) + 1"
   ]
  },
  {
   "cell_type": "code",
   "execution_count": null,
   "metadata": {},
   "outputs": [],
   "source": [
    "if not root:\n",
    "    return 0\n",
    "queue = [root]\n",
    "ans = 0\n",
    "while queue:\n",
    "    ans += 1\n",
    "    for _ in range(len(queue)):\n",
    "        cur = queue.pop(0)\n",
    "        if cur.left:\n",
    "            queue.append(cur.left)\n",
    "        if cur.right:\n",
    "            queue.append(cur.right)\n",
    "return ans"
   ]
  },
  {
   "cell_type": "code",
   "execution_count": null,
   "metadata": {},
   "outputs": [],
   "source": [
    "226. 翻转二叉树\n",
    "翻转一棵二叉树。\n",
    "示例：\n",
    "输入：\n",
    "     4\n",
    "   /   \\\n",
    "  2     7\n",
    " / \\   / \\\n",
    "1   3 6   9\n",
    "输出：\n",
    "     4\n",
    "   /   \\\n",
    "  7     2\n",
    " / \\   / \\\n",
    "9   6 3   1"
   ]
  },
  {
   "cell_type": "code",
   "execution_count": null,
   "metadata": {},
   "outputs": [],
   "source": [
    "if not root:\n",
    "    return root\n",
    "root.left,root.right = root.right,root.left\n",
    "self.invertTree(root.left)\n",
    "self.invertTree(root.right)\n",
    "return root"
   ]
  },
  {
   "cell_type": "code",
   "execution_count": null,
   "metadata": {},
   "outputs": [],
   "source": [
    "剑指 Offer 26. 树的子结构\n",
    "输入两棵二叉树A和B，判断B是不是A的子结构。(约定空树不是任意一个树的子结构)\n",
    "B是A的子结构， 即 A中有出现和B相同的结构和节点值。\n",
    "例如:\n",
    "给定的树 A:\n",
    "     3\n",
    "    / \\\n",
    "   4   5\n",
    "  / \\\n",
    " 1   2\n",
    "给定的树 B：\n",
    "   4 \n",
    "  /\n",
    " 1\n",
    "返回 true，因为 B 与 A 的一个子树拥有相同的结构和节点值。"
   ]
  },
  {
   "cell_type": "code",
   "execution_count": null,
   "metadata": {},
   "outputs": [],
   "source": [
    "class Solution:\n",
    "    def isSubStructure(self, A: TreeNode, B: TreeNode) -> bool:\n",
    "        def dfs(A,B):\n",
    "            if not B:\n",
    "                return True\n",
    "            if not A:\n",
    "                return False\n",
    "            return A.val == B.val and dfs(A.left,B.left) and dfs(A.right,B.right)\n",
    "\n",
    "        if not A or not B :\n",
    "            return False\n",
    "        return dfs(A,B) or self.isSubStructure(A.left,B) or \n",
    "    self.isSubStructure(A.right,B)"
   ]
  },
  {
   "cell_type": "code",
   "execution_count": null,
   "metadata": {},
   "outputs": [],
   "source": [
    "103. 二叉树的锯齿形层序遍历\n",
    "给定一个二叉树，返回其节点值的锯齿形层序遍历。\n",
    "（即先从左往右，再从右往左进行下一层遍历，以此类推，层与层之间交替进行）。\n",
    "例如：\n",
    "给定二叉树 [3,9,20,null,null,15,7],\n",
    "    3\n",
    "   / \\\n",
    "  9  20\n",
    "    /  \\\n",
    "   15   7\n",
    "返回锯齿形层序遍历如下：\n",
    "[\n",
    "  [3],\n",
    "  [20,9],\n",
    "  [15,7]\n",
    "]"
   ]
  },
  {
   "cell_type": "code",
   "execution_count": null,
   "metadata": {},
   "outputs": [],
   "source": [
    "if not root:    ######这句边界条件不能忘！！！\n",
    "    return []\n",
    "\n",
    "queue = [root]\n",
    "res = []\n",
    "level = 0\n",
    "while queue:\n",
    "    ans = []\n",
    "    n = len(queue)\n",
    "    level += 1\n",
    "    for i in range(n):\n",
    "        cur = queue.pop(0)\n",
    "        ans.append(cur.val)\n",
    "        if cur.left:\n",
    "            queue.append(cur.left)\n",
    "        if cur.right:\n",
    "            queue.append(cur.right)\n",
    "    if level % 2 == 0:   #####在层序遍历的基础上，加了个奇偶层判断\n",
    "        res.append(ans[::-1])\n",
    "    else:\n",
    "        res.append(ans)\n",
    "return res"
   ]
  },
  {
   "cell_type": "code",
   "execution_count": null,
   "metadata": {},
   "outputs": [],
   "source": []
  },
  {
   "cell_type": "code",
   "execution_count": null,
   "metadata": {},
   "outputs": [],
   "source": []
  }
 ],
 "metadata": {
  "kernelspec": {
   "display_name": "Python 3",
   "language": "python",
   "name": "python3"
  },
  "language_info": {
   "codemirror_mode": {
    "name": "ipython",
    "version": 3
   },
   "file_extension": ".py",
   "mimetype": "text/x-python",
   "name": "python",
   "nbconvert_exporter": "python",
   "pygments_lexer": "ipython3",
   "version": "3.8.5"
  }
 },
 "nbformat": 4,
 "nbformat_minor": 4
}
