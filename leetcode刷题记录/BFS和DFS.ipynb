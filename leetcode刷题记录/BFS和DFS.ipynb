{
 "cells": [
  {
   "cell_type": "code",
   "execution_count": null,
   "metadata": {},
   "outputs": [],
   "source": []
  },
  {
   "cell_type": "code",
   "execution_count": null,
   "metadata": {},
   "outputs": [],
   "source": [
    "200. 岛屿数量\n",
    "给你一个由 '1'（陆地）和 '0'（水）组成的的二维网格，请你计算网格中岛屿的数量。\n",
    "岛屿总是被水包围，并且每座岛屿只能由水平方向和/或竖直方向上相邻的陆地连接形成。\n",
    "此外，你可以假设该网格的四条边均被水包围。\n",
    "示例 1：\n",
    "输入：grid = [\n",
    "  [\"1\",\"1\",\"1\",\"1\",\"0\"],\n",
    "  [\"1\",\"1\",\"0\",\"1\",\"0\"],\n",
    "  [\"1\",\"1\",\"0\",\"0\",\"0\"],\n",
    "  [\"0\",\"0\",\"0\",\"0\",\"0\"]\n",
    "]\n",
    "输出：1\n",
    "示例 2：\n",
    "输入：grid = [\n",
    "  [\"1\",\"1\",\"0\",\"0\",\"0\"],\n",
    "  [\"1\",\"1\",\"0\",\"0\",\"0\"],\n",
    "  [\"0\",\"0\",\"1\",\"0\",\"0\"],\n",
    "  [\"0\",\"0\",\"0\",\"1\",\"1\"]\n",
    "]\n",
    "输出：3"
   ]
  },
  {
   "cell_type": "code",
   "execution_count": null,
   "metadata": {},
   "outputs": [],
   "source": [
    "深度优先搜索\n",
    "if not grid:\n",
    "    return 0\n",
    "row,col = len(grid),len(grid[0])\n",
    "visited = [[False for _ in range(col)] for _ in range(row)]\n",
    "\n",
    "def dfs(i,j):\n",
    "    if i < 0 or i > row-1 or j < 0 or j > col - 1 or grid[i][j] == \"0\" or visited[i][j]:\n",
    "        return\n",
    "    visited[i][j] = True\n",
    "    dfs(i-1,j)\n",
    "    dfs(i+1,j)\n",
    "    dfs(i,j-1)\n",
    "    dfs(i,j+1)\n",
    "\n",
    "count = 0\n",
    "for i in range(row):\n",
    "    for j in range(col):\n",
    "        if grid[i][j] == \"1\" and not visited[i][j]:\n",
    "            count += 1\n",
    "            dfs(i,j)\n",
    "return count"
   ]
  },
  {
   "cell_type": "code",
   "execution_count": null,
   "metadata": {},
   "outputs": [],
   "source": [
    "宽度优先搜索\n",
    "def bfs(grid,i,j):\n",
    "    queue = [(i,j)]\n",
    "    while queue:\n",
    "        [i,j] = queue.pop(0)\n",
    "        if 0 <= i < len(grid) and 0 <= j < len(grid[0]) and grid[i][j] == \"1\":\n",
    "            grid[i][j] = \"0\"\n",
    "            queue += [(i-1,j),(i+1,j),(i,j-1),(i,j+1)]\n",
    "count = 0\n",
    "for i in range(len(grid)):\n",
    "    for j in range(len(grid[0])):\n",
    "        if grid[i][j] == \"0\":\n",
    "            continue\n",
    "        bfs(grid,i,j)\n",
    "        count += 1\n",
    "return count\n"
   ]
  },
  {
   "cell_type": "code",
   "execution_count": null,
   "metadata": {},
   "outputs": [],
   "source": [
    "463. 岛屿的周长\n",
    "给定一个 row x col 的二维网格地图 grid ，其中：grid[i][j] = 1 表示陆地， \n",
    "grid[i][j] = 0 表示水域。\n",
    "网格中的格子 水平和垂直 方向相连（对角线方向不相连）。整个网格被水完全包围，\n",
    "但其中恰好有一个岛屿（或者说，一个或多个表示陆地的格子相连组成的岛屿）。\n",
    "岛屿中没有“湖”（“湖” 指水域在岛屿内部且不和岛屿周围的水相连）。\n",
    "格子是边长为 1 的正方形。网格为长方形，且宽度和高度均不超过 100 。计算这个岛屿的周长。"
   ]
  },
  {
   "cell_type": "code",
   "execution_count": null,
   "metadata": {},
   "outputs": [],
   "source": [
    "num = 0\n",
    "for i in range(len(grid)):\n",
    "    for j in range(len(grid[0])):\n",
    "        if grid[i][j] == 1:\n",
    "            num += 4\n",
    "            if i + 1 < len(grid) and grid[i+1][j] == 1:  ##两个条件的顺序分先后\n",
    "                num -= 2\n",
    "            if j + 1 < len(grid[0]) and grid[i][j+1] == 1:\n",
    "                num -= 2\n",
    "return num"
   ]
  }
 ],
 "metadata": {
  "kernelspec": {
   "display_name": "Python 3",
   "language": "python",
   "name": "python3"
  },
  "language_info": {
   "codemirror_mode": {
    "name": "ipython",
    "version": 3
   },
   "file_extension": ".py",
   "mimetype": "text/x-python",
   "name": "python",
   "nbconvert_exporter": "python",
   "pygments_lexer": "ipython3",
   "version": "3.8.5"
  }
 },
 "nbformat": 4,
 "nbformat_minor": 4
}
